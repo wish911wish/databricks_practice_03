{
 "cells": [
  {
   "cell_type": "code",
   "execution_count": 0,
   "metadata": {
    "application/vnd.databricks.v1+cell": {
     "cellMetadata": {
      "byteLimit": 2048000,
      "rowLimit": 10000
     },
     "inputWidgets": {},
     "nuid": "f330f531-d762-461e-9b89-23a9648a2b5e",
     "showTitle": false,
     "tableResultSettingsMap": {},
     "title": ""
    }
   },
   "outputs": [],
   "source": [
    "%run ./_include"
   ]
  },
  {
   "cell_type": "code",
   "execution_count": 0,
   "metadata": {
    "application/vnd.databricks.v1+cell": {
     "cellMetadata": {
      "byteLimit": 2048000,
      "rowLimit": 10000
     },
     "inputWidgets": {},
     "nuid": "b7f8a2d1-da93-44f1-9fce-e5eb0512f893",
     "showTitle": false,
     "tableResultSettingsMap": {},
     "title": ""
    }
   },
   "outputs": [],
   "source": [
    "# 現在のデータベース（スキーマ）を確認\n",
    "current_db = spark.catalog.currentDatabase()\n",
    "print(f\"Current Database: {current_db}\")\n",
    "\n",
    "# Unity Catalog環境では currentCatalog() も使用可能（Spark 3.4+）\n",
    "current_catalog = spark.catalog.currentCatalog()\n",
    "print(f\"Current Catalog: {current_catalog}\")\n"
   ]
  },
  {
   "cell_type": "code",
   "execution_count": 0,
   "metadata": {
    "application/vnd.databricks.v1+cell": {
     "cellMetadata": {},
     "inputWidgets": {},
     "nuid": "589e4bf9-01db-432d-be67-4aec8de2b61c",
     "showTitle": false,
     "tableResultSettingsMap": {},
     "title": ""
    }
   },
   "outputs": [],
   "source": [
    "import pandas as pd\n",
    "import requests\n",
    "from io import StringIO\n",
    "\n",
    "# GitHub上のCSVを直接読み込む\n",
    "base_url = \"https://raw.githubusercontent.com/pawelszydlo/northwind-mongo/master/data/\"\n",
    "\n",
    "tables = [\n",
    "    \"categories\",\n",
    "    \"customers\",\n",
    "    \"employees\",\n",
    "    \"orders\",\n",
    "    \"order-details\",\n",
    "    \"products\",\n",
    "    \"suppliers\",\n",
    "    \"shippers\",\n",
    "    \"regions\",\n",
    "    \"territories\"\n",
    "]\n",
    "\n",
    "# 各テーブルをDataFrameとして読み込み\n",
    "for table in tables:\n",
    "    url = f\"{base_url}{table}.csv\"\n",
    "    df = pd.read_csv(url)\n",
    "    \n",
    "    # Sparkデータフレームに変換\n",
    "    spark_df = spark.createDataFrame(df)\n",
    "    \n",
    "    # Deltaテーブルとして保存\n",
    "    spark_df.write.format(\"delta\").mode(\"overwrite\").saveAsTable(f\"northwind_{table}\")\n",
    "    \n",
    "    print(f\"Loaded {table}: {spark_df.count()} rows\")"
   ]
  },
  {
   "cell_type": "code",
   "execution_count": 0,
   "metadata": {
    "application/vnd.databricks.v1+cell": {
     "cellMetadata": {
      "byteLimit": 2048000,
      "rowLimit": 10000
     },
     "inputWidgets": {},
     "nuid": "a9d6b0d3-25cf-495c-b5f9-9811c3d6316c",
     "showTitle": false,
     "tableResultSettingsMap": {},
     "title": ""
    }
   },
   "outputs": [],
   "source": [
    "\n",
    "\n",
    "df = spark.read.csv(\"/Volumes/practice03/supply_chain/dataset/DataCoSupplyChainDataset.csv\", \n",
    "                    header=True, inferSchema=True)\n",
    "\n",
    "# データ構造の確認\n",
    "df.printSchema()\n",
    "\n",
    "display(df.limit(10))\n",
    "\n",
    "# 統計情報の確認\n",
    "display(df.describe())\n",
    "\n"
   ]
  }
 ],
 "metadata": {
  "application/vnd.databricks.v1+notebook": {
   "computePreferences": null,
   "dashboards": [],
   "environmentMetadata": {
    "base_environment": "",
    "environment_version": "4"
   },
   "inputWidgetPreferences": null,
   "language": "python",
   "notebookMetadata": {
    "pythonIndentUnit": 4
   },
   "notebookName": "11_ingest_ply_chain_raw",
   "widgets": {}
  },
  "language_info": {
   "name": "python"
  }
 },
 "nbformat": 4,
 "nbformat_minor": 0
}
