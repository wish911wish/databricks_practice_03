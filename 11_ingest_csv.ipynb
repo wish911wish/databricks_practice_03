{
 "cells": [
  {
   "cell_type": "code",
   "execution_count": 0,
   "metadata": {
    "application/vnd.databricks.v1+cell": {
     "cellMetadata": {
      "byteLimit": 2048000,
      "rowLimit": 10000
     },
     "inputWidgets": {},
     "nuid": "f330f531-d762-461e-9b89-23a9648a2b5e",
     "showTitle": false,
     "tableResultSettingsMap": {},
     "title": ""
    }
   },
   "outputs": [],
   "source": [
    "%run ./_include"
   ]
  },
  {
   "cell_type": "code",
   "execution_count": 0,
   "metadata": {
    "application/vnd.databricks.v1+cell": {
     "cellMetadata": {
      "byteLimit": 2048000,
      "rowLimit": 10000
     },
     "inputWidgets": {},
     "nuid": "b7f8a2d1-da93-44f1-9fce-e5eb0512f893",
     "showTitle": false,
     "tableResultSettingsMap": {},
     "title": ""
    }
   },
   "outputs": [],
   "source": [
    "# 現在のデータベース（スキーマ）を確認\n",
    "current_db = spark.catalog.currentDatabase()\n",
    "print(f\"Current Database: {current_db}\")\n",
    "\n",
    "# Unity Catalog環境では currentCatalog() も使用可能（Spark 3.4+）\n",
    "current_catalog = spark.catalog.currentCatalog()\n",
    "print(f\"Current Catalog: {current_catalog}\")\n"
   ]
  },
  {
   "cell_type": "markdown",
   "metadata": {
    "application/vnd.databricks.v1+cell": {
     "cellMetadata": {
      "byteLimit": 2048000,
      "rowLimit": 10000
     },
     "inputWidgets": {},
     "nuid": "2c4071db-d8b3-41d5-aee2-4d792bf66014",
     "showTitle": false,
     "tableResultSettingsMap": {},
     "title": ""
    }
   },
   "source": [
    "## ボリュームのCSVファイルを取り込む"
   ]
  },
  {
   "cell_type": "code",
   "execution_count": 0,
   "metadata": {
    "application/vnd.databricks.v1+cell": {
     "cellMetadata": {
      "byteLimit": 2048000,
      "rowLimit": 10000
     },
     "inputWidgets": {},
     "nuid": "589e4bf9-01db-432d-be67-4aec8de2b61c",
     "showTitle": false,
     "tableResultSettingsMap": {},
     "title": ""
    }
   },
   "outputs": [],
   "source": [
    "from pyspark.sql.functions import current_timestamp\n",
    "volumes_path = \"/Volumes/practice03/supply_chain/dataset\"\n",
    "\n",
    "tables = [\n",
    "    \"categories\",\n",
    "    \"customers\",\n",
    "    \"employees\",\n",
    "    \"orders\",\n",
    "    \"order_details\",\n",
    "    \"products\",\n",
    "    \"suppliers\",\n",
    "    \"shippers\",\n",
    "    \"regions\",\n",
    "    \"territories\",\n",
    "    \"employee_territories\",\n",
    "]\n",
    "\n",
    "# 各テーブルをDataFrameとして読み込み\n",
    "for table in tables:    \n",
    "    df = spark.read.csv(\n",
    "        f\"{volumes_path}/{table}.csv\",\n",
    "        header=True,\n",
    "        inferSchema=False\n",
    "    )\n",
    "    df = df.withColumn(\"ingested_at\", current_timestamp())\n",
    "\n",
    "    bronze_table_name = f\"bronze_{table}\"\n",
    "    spark.sql(f\"DROP TABLE IF EXISTS {bronze_table_name}\")\n",
    "    # Deltaテーブルとして保存\n",
    "    df.write.format(\"delta\").mode(\"overwrite\").saveAsTable(bronze_table_name)\n",
    "    \n",
    "    print(f\"Loaded {table}: {df.count()} rows\")"
   ]
  },
  {
   "cell_type": "markdown",
   "metadata": {
    "application/vnd.databricks.v1+cell": {
     "cellMetadata": {
      "byteLimit": 2048000,
      "rowLimit": 10000
     },
     "inputWidgets": {},
     "nuid": "cf697c93-6d23-442b-bdb8-ecd436b80ccd",
     "showTitle": false,
     "tableResultSettingsMap": {},
     "title": ""
    }
   },
   "source": [
    "## テーブルの存在確認"
   ]
  },
  {
   "cell_type": "code",
   "execution_count": 0,
   "metadata": {
    "application/vnd.databricks.v1+cell": {
     "cellMetadata": {
      "byteLimit": 2048000,
      "rowLimit": 10000
     },
     "inputWidgets": {},
     "nuid": "4bca0ee4-df58-463d-be7e-1e59233b61f0",
     "showTitle": false,
     "tableResultSettingsMap": {},
     "title": ""
    }
   },
   "outputs": [],
   "source": [
    "\n",
    "print(f\"Show tables\")\n",
    "df_tables = spark.sql(\"SHOW TABLES\")\n",
    "display(df_tables)"
   ]
  },
  {
   "cell_type": "markdown",
   "metadata": {
    "application/vnd.databricks.v1+cell": {
     "cellMetadata": {
      "byteLimit": 2048000,
      "rowLimit": 10000
     },
     "inputWidgets": {},
     "nuid": "aeaf99e9-40ff-4110-bcb0-8574077b1d42",
     "showTitle": false,
     "tableResultSettingsMap": {},
     "title": ""
    }
   },
   "source": [
    "## テーブルのスキーマチェック"
   ]
  },
  {
   "cell_type": "code",
   "execution_count": 0,
   "metadata": {
    "application/vnd.databricks.v1+cell": {
     "cellMetadata": {
      "byteLimit": 2048000,
      "rowLimit": 10000
     },
     "inputWidgets": {},
     "nuid": "2247de2d-dc8c-4750-ab42-4a16fe9d3419",
     "showTitle": false,
     "tableResultSettingsMap": {},
     "title": ""
    }
   },
   "outputs": [],
   "source": [
    "table = \"bronze_airports\"\n",
    "\n",
    "for table in tables:\n",
    "\n",
    "    bronze_table = f\"bronze_{table}\"\n",
    "    print(f\"{bronze_table} schema\")\n",
    "    \n",
    "    df_schema = spark.sql(f\"DESCRIBE TABLE {bronze_table}\")\n",
    "    display(df_schema)\n",
    "\n"
   ]
  }
 ],
 "metadata": {
  "application/vnd.databricks.v1+notebook": {
   "computePreferences": null,
   "dashboards": [],
   "environmentMetadata": {
    "base_environment": "",
    "environment_version": "4"
   },
   "inputWidgetPreferences": null,
   "language": "python",
   "notebookMetadata": {
    "pythonIndentUnit": 4
   },
   "notebookName": "11_ingest_csv",
   "widgets": {}
  },
  "language_info": {
   "name": "python"
  }
 },
 "nbformat": 4,
 "nbformat_minor": 0
}
