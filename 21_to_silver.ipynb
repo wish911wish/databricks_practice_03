{
 "cells": [
  {
   "cell_type": "code",
   "execution_count": 0,
   "metadata": {
    "application/vnd.databricks.v1+cell": {
     "cellMetadata": {
      "byteLimit": 2048000,
      "rowLimit": 10000
     },
     "inputWidgets": {},
     "nuid": "79df0c3a-b739-49f3-8099-302ac01e59f5",
     "showTitle": false,
     "tableResultSettingsMap": {},
     "title": ""
    }
   },
   "outputs": [],
   "source": [
    "%run ./_include"
   ]
  },
  {
   "cell_type": "code",
   "execution_count": 0,
   "metadata": {
    "application/vnd.databricks.v1+cell": {
     "cellMetadata": {
      "byteLimit": 2048000,
      "rowLimit": 10000
     },
     "inputWidgets": {},
     "nuid": "fc4cc218-9994-45b1-85b3-fe3eec4700bd",
     "showTitle": false,
     "tableResultSettingsMap": {},
     "title": ""
    }
   },
   "outputs": [],
   "source": [
    "# 現在のデータベース（スキーマ）を確認\n",
    "current_db = spark.catalog.currentDatabase()\n",
    "print(f\"Current Database: {current_db}\")\n",
    "\n",
    "# Unity Catalog環境では currentCatalog() も使用可能（Spark 3.4+）\n",
    "current_catalog = spark.catalog.currentCatalog()\n",
    "print(f\"Current Catalog: {current_catalog}\")\n"
   ]
  },
  {
   "cell_type": "markdown",
   "metadata": {
    "application/vnd.databricks.v1+cell": {
     "cellMetadata": {},
     "inputWidgets": {},
     "nuid": "1f976494-e016-4e9d-bc6d-1bfdb65e72e3",
     "showTitle": false,
     "tableResultSettingsMap": {},
     "title": ""
    }
   },
   "source": [
    "## クレンジング"
   ]
  },
  {
   "cell_type": "code",
   "execution_count": 0,
   "metadata": {
    "application/vnd.databricks.v1+cell": {
     "cellMetadata": {},
     "inputWidgets": {},
     "nuid": "927f64fe-6529-4fb9-8b6a-a521b3514a6b",
     "showTitle": false,
     "tableResultSettingsMap": {},
     "title": ""
    }
   },
   "outputs": [],
   "source": [
    "from pyspark.sql.types import StructType, StructField, StringType, IntegerType\n",
    "from pyspark.sql.functions import col, to_date, year, month, day, dayofmonth, when\n",
    "\n",
    "df_bronze_customers = spark.table(\"bronze_customers\")\n",
    "\n",
    "df_silver_delays = df_bronze_customers\\\n",
    "    .withColumn(\"region\", col(\"region\")) \\\n",
    "    .withColumn(\"fax\", col(\"fax\"))\n"
   ]
  }
 ],
 "metadata": {
  "application/vnd.databricks.v1+notebook": {
   "computePreferences": null,
   "dashboards": [],
   "environmentMetadata": {
    "base_environment": "",
    "environment_version": "4"
   },
   "inputWidgetPreferences": null,
   "language": "python",
   "notebookMetadata": {
    "pythonIndentUnit": 4
   },
   "notebookName": "21_to_silver",
   "widgets": {}
  },
  "language_info": {
   "name": "python"
  }
 },
 "nbformat": 4,
 "nbformat_minor": 0
}
