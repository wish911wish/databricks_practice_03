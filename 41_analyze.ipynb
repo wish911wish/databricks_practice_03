{
 "cells": [
  {
   "cell_type": "code",
   "execution_count": 0,
   "metadata": {
    "application/vnd.databricks.v1+cell": {
     "cellMetadata": {
      "byteLimit": 2048000,
      "rowLimit": 10000
     },
     "inputWidgets": {},
     "nuid": "79df0c3a-b739-49f3-8099-302ac01e59f5",
     "showTitle": false,
     "tableResultSettingsMap": {},
     "title": ""
    }
   },
   "outputs": [],
   "source": [
    "%run ./_include"
   ]
  },
  {
   "cell_type": "code",
   "execution_count": 0,
   "metadata": {
    "application/vnd.databricks.v1+cell": {
     "cellMetadata": {
      "byteLimit": 2048000,
      "rowLimit": 10000
     },
     "inputWidgets": {},
     "nuid": "fc4cc218-9994-45b1-85b3-fe3eec4700bd",
     "showTitle": false,
     "tableResultSettingsMap": {},
     "title": ""
    }
   },
   "outputs": [],
   "source": [
    "# 現在のデータベース（スキーマ）を確認\n",
    "current_db = spark.catalog.currentDatabase()\n",
    "print(f\"Current Database: {current_db}\")\n",
    "\n",
    "# Unity Catalog環境では currentCatalog() も使用可能（Spark 3.4+）\n",
    "current_catalog = spark.catalog.currentCatalog()\n",
    "print(f\"Current Catalog: {current_catalog}\")\n"
   ]
  },
  {
   "cell_type": "markdown",
   "metadata": {
    "application/vnd.databricks.v1+cell": {
     "cellMetadata": {
      "byteLimit": 2048000,
      "rowLimit": 10000
     },
     "inputWidgets": {},
     "nuid": "6e276a67-eddb-4e28-9b25-b18299423382",
     "showTitle": false,
     "tableResultSettingsMap": {},
     "title": ""
    }
   },
   "source": [
    "## 分析"
   ]
  },
  {
   "cell_type": "markdown",
   "metadata": {
    "application/vnd.databricks.v1+cell": {
     "cellMetadata": {
      "byteLimit": 2048000,
      "rowLimit": 10000
     },
     "inputWidgets": {},
     "nuid": "44424201-4912-4c09-a8f0-d4852a42b885",
     "showTitle": false,
     "tableResultSettingsMap": {},
     "title": ""
    }
   },
   "source": [
    "## シルバー層"
   ]
  },
  {
   "cell_type": "code",
   "execution_count": 0,
   "metadata": {
    "application/vnd.databricks.v1+cell": {
     "cellMetadata": {
      "byteLimit": 2048000,
      "rowLimit": 10000
     },
     "inputWidgets": {},
     "nuid": "927f64fe-6529-4fb9-8b6a-a521b3514a6b",
     "showTitle": false,
     "tableResultSettingsMap": {},
     "title": ""
    }
   },
   "outputs": [],
   "source": [
    "from pyspark.sql.types import StructType, StructField, StringType, IntegerType\n",
    "from pyspark.sql.functions import col, to_date, year, month, day, quarter, dayofmonth, when, quarter, dayofweek, date_format, lit, weekofyear, monotonically_increasing_id, current_timestamp, sum\n",
    "from datetime import date, timedelta\n",
    "\n",
    "\n",
    "# ===============シルバー層のモック\n",
    "\n",
    "# オーダー詳細のモックデータ\n",
    "silver_order_details = [\n",
    "    (10248, 11, 1, 14.00, 14.00 * 12 - 0, 1,  0.2),\n",
    "    (10248, 42, 1, 9.00,  9.80 * 10 - 0, 2,   0.0),\n",
    "    (10249, 14, 1, 18.60, 18.60 * 9 - 0, 12,  0.05),\n",
    "    (10250, 13, 2, 18.60, 18.60 * 9 - 0, 6,   0.0),\n",
    "]\n",
    "silver_order_details_schema = [\n",
    "    \"order_id\",\n",
    "    \"product_id\",\n",
    "    \"employee_id\",\n",
    "    \"unit_price\",\n",
    "    \"detail_total_amount\",\n",
    "    \"quantity\",\n",
    "    \"discount\",\n",
    "]\n",
    "df_silver_order_details = spark.createDataFrame(silver_order_details, silver_order_details_schema)\n",
    "df_silver_order_details.createOrReplaceTempView(\"silver_order_details\")\n",
    "\n",
    "# カテゴリーのモックデータ\n",
    "silver_categories = [\n",
    "    (1, \"cat_AAA\"),\n",
    "    (2, \"cat_BBB\"),\n",
    "]\n",
    "silver_categories_schema = [\n",
    "    \"category_id\",\n",
    "    \"category_name\",\n",
    "]\n",
    "df_silver_categories = spark.createDataFrame(silver_categories, silver_categories_schema)\n",
    "df_silver_categories.createOrReplaceTempView(\"df_silver_categories\")\n",
    "\n",
    "\n",
    "# 商品のモックデータ\n",
    "silver_products = [\n",
    "    (1, \"AAA\", 1, 1, 21, 22, 31),\n",
    "    (11, \"BBB\", 2, 1, 21, 22, 31),\n",
    "    (13, \"abc\", 3, 1, 21, 22, 31),\n",
    "    (14, \"CCC\", 3, 1, 21, 22, 31),\n",
    "    (42, \"DDD\", 3, 1, 21, 22, 31),\n",
    "]\n",
    "silver_products_schema = [\n",
    "    \"product_id\",\n",
    "    \"product_name\",\n",
    "    \"supplier_id\",\n",
    "    \"category_id\",\n",
    "    \"units_in_stock\",\n",
    "    \"units_on_order\",\n",
    "    \"reorder_level\",\n",
    "]\n",
    "df_silver_products = spark.createDataFrame(silver_products, silver_products_schema)\n",
    "df_silver_products.createOrReplaceTempView(\"silver_products\")\n",
    "\n",
    "# オーダーのモックデータ\n",
    "silver_orders = [\n",
    "    (10248, \"ALFKI\", 5, date(1996, 7, 4), date(1996, 7, 20), date(1996, 8, 1)),\n",
    "    (10249, \"ANATR\", 6, date(1996, 8, 19), date(1996, 8, 29), date(1996, 9, 2)),\n",
    "    (10250, \"ANTON\", 7, date(1996, 8, 22), date(1996, 8, 30), date(1996, 9, 2)),\n",
    "]\n",
    "silver_orders_schema = [\n",
    "    \"order_id\",\n",
    "    \"customer_id\",\n",
    "    \"employee_id\",\n",
    "    \"order_date\",\n",
    "    \"required_date\",\n",
    "    \"shipped_date\"\n",
    "]\n",
    "df_silver_orders = spark.createDataFrame(silver_orders, silver_orders_schema)\n",
    "df_silver_orders.createOrReplaceTempView(\"df_silver_orders\")\n",
    "\n",
    "\n",
    "# 顧客のモックデータ\n",
    "silver_customers = [\n",
    "    (\"ALFKI\", \"Alfreds Futterkiste\", \"Germany\"),\n",
    "    (\"ANATR\", \"Ana Trujillo Emparedados y helados\", \"Mexico\"),\n",
    "    (\"ANTON\", \"Antonio Moreno Taquería\", \"UK\"),\n",
    "]\n",
    "silver_customers_schema = [\n",
    "    \"customer_id\",\n",
    "    \"company_name\",\n",
    "    \"country_name\",\n",
    "]\n",
    "df_silver_customers = spark.createDataFrame(silver_customers, silver_customers_schema)\n",
    "df_silver_customers.createOrReplaceTempView(\"silver_customers\")\n",
    "\n",
    "\n",
    "# 従業員のモックデータ\n",
    "silver_employees = [\n",
    "    (1, \"Davolio Nancy\"),\n",
    "    (2, \"Fuller Andrew\"),\n",
    "    (3, \"Leverling Janet\"),\n",
    "]\n",
    "silver_employees_schema = [\n",
    "    \"employee_id\",\n",
    "    \"employee_name\",\n",
    "]\n",
    "df_silver_employees = spark.createDataFrame(silver_employees, silver_employees_schema)\n",
    "df_silver_employees.createOrReplaceTempView(\"silver_employees\")\n",
    "\n",
    "\n"
   ]
  },
  {
   "cell_type": "markdown",
   "metadata": {
    "application/vnd.databricks.v1+cell": {
     "cellMetadata": {
      "byteLimit": 2048000,
      "rowLimit": 10000
     },
     "inputWidgets": {},
     "nuid": "a4fea5c6-24a3-41da-a9f6-af0ac016ad6d",
     "showTitle": false,
     "tableResultSettingsMap": {},
     "title": ""
    }
   },
   "source": [
    "## ゴールド層"
   ]
  },
  {
   "cell_type": "markdown",
   "metadata": {
    "application/vnd.databricks.v1+cell": {
     "cellMetadata": {
      "byteLimit": 2048000,
      "rowLimit": 10000
     },
     "inputWidgets": {},
     "nuid": "c13c9b86-3e8a-48ea-a9c4-52fbe519e2ad",
     "showTitle": false,
     "tableResultSettingsMap": {},
     "title": ""
    }
   },
   "source": [
    "### ディメンション"
   ]
  },
  {
   "cell_type": "code",
   "execution_count": 0,
   "metadata": {
    "application/vnd.databricks.v1+cell": {
     "cellMetadata": {
      "byteLimit": 2048000,
      "rowLimit": 10000
     },
     "inputWidgets": {},
     "nuid": "b9e6ef18-7956-42bf-9646-492942fd6e6f",
     "showTitle": false,
     "tableResultSettingsMap": {},
     "title": ""
    }
   },
   "outputs": [],
   "source": [
    "\n",
    "# 顧客ディメンション\n",
    "df_dim_customers = df_silver_customers\\\n",
    "    .withColumn('customer_key', monotonically_increasing_id())\\\n",
    "    .withColumn(\"created_at\", current_timestamp())\n",
    "df_dim_customers.createOrReplaceTempView(\"dim_customers\")\n",
    "\n",
    "# 国別ディメンション\n",
    "df_countries = df_silver_customers\\\n",
    "    .select('country_name')\\\n",
    "    .distinct()\\\n",
    "    .orderBy(\"country_name\")\n",
    "\n",
    "df_dim_countries = df_countries\\\n",
    "    .withColumn(\"country_key\", monotonically_increasing_id())\\\n",
    "    .withColumn(\"created_date\", current_timestamp()) \\\n",
    "    .select(\n",
    "        \"country_key\",\n",
    "        \"country_name\"\n",
    "    )\n",
    "df_dim_countries.createOrReplaceTempView(\"dim_countries\")\n",
    "\n",
    "# 商品ディメンション\n",
    "df_dim_products = df_silver_products\\\n",
    "    .withColumn('product_key', monotonically_increasing_id())\\\n",
    "    .withColumn(\"created_at\", current_timestamp())\n",
    "df_dim_products.createOrReplaceTempView(\"dim_products\")\n",
    "\n",
    "# カテゴリーディメンション\n",
    "df_dim_categories = df_silver_categories\\\n",
    "    .withColumn('category_key', monotonically_increasing_id())\\\n",
    "    .withColumn(\"created_at\", current_timestamp())\n",
    "df_dim_categories.createOrReplaceTempView(\"dim_categories\")\n",
    "\n",
    "# 従業員ディメンション\n",
    "df_dim_employees = df_silver_employees\\\n",
    "    .withColumn('employee_key', monotonically_increasing_id())\\\n",
    "    .withColumn(\"created_at\", current_timestamp())\n",
    "df_dim_employees.createOrReplaceTempView(\"dim_employees\")\n",
    "\n",
    "# 月別ディメンション\n",
    "start_date = date(1990, 1, 1)\n",
    "end_date = date(2000, 12, 31)\n",
    "date_range =  [(start_date + timedelta(days=x),) for x in range((end_date - start_date).days + 1)]\n",
    "\n",
    "df_dates = spark.createDataFrame(date_range, ['date'])\n",
    "\n",
    "\n",
    "df_dim_date = df_dates\\\n",
    "    .withColumn('date_key', monotonically_increasing_id())\\\n",
    "    .withColumn('year', year(col('date')))\\\n",
    "    .withColumn('quarter', quarter(col('date')))\\\n",
    "    .withColumn('month', month(col('date')))\\\n",
    "    .withColumn('day', dayofmonth(col('date')))\\\n",
    "    .withColumn('day_of_week', dayofweek(col('date')))\\\n",
    "    .withColumn('day_name', date_format(col('date'), 'EEEE'))\\\n",
    "    .withColumn('week_of_year', weekofyear(col('date')))\\\n",
    "    .withColumn('is_weekend', \n",
    "      when(col('day_of_week').isin([1,7]), True)\\\n",
    "      .otherwise(False)\n",
    "    )\\\n",
    "    .withColumn('week_of_year', weekofyear(col('date')))\\\n",
    "    .withColumn(\"year_month\", date_format(col(\"date\"), \"yyyy-MM\"))\n",
    "df_dim_date.createOrReplaceTempView(\"dim_date\")\n",
    "\n"
   ]
  },
  {
   "cell_type": "markdown",
   "metadata": {
    "application/vnd.databricks.v1+cell": {
     "cellMetadata": {
      "byteLimit": 2048000,
      "rowLimit": 10000
     },
     "inputWidgets": {},
     "nuid": "79ad4c97-2b59-4505-97c8-a8cb6bdb5989",
     "showTitle": false,
     "tableResultSettingsMap": {},
     "title": ""
    }
   },
   "source": [
    "### ファクトテーブル"
   ]
  },
  {
   "cell_type": "code",
   "execution_count": 0,
   "metadata": {
    "application/vnd.databricks.v1+cell": {
     "cellMetadata": {
      "byteLimit": 2048000,
      "rowLimit": 10000
     },
     "inputWidgets": {},
     "nuid": "70e90c26-c01a-469a-8850-549500d20510",
     "showTitle": false,
     "tableResultSettingsMap": {},
     "title": ""
    }
   },
   "outputs": [],
   "source": [
    "# ###### ファクトテーブル ######\n",
    "df_fact_prep = df_silver_order_details\\\n",
    "    .join(df_silver_products, \"product_id\", \"left\") \\\n",
    "    .join(df_silver_orders, \"order_id\", \"left\") \\\n",
    "    .join(df_silver_employees, \"employee_id\", \"left\") \\\n",
    "    .join(df_silver_customers, \"customer_id\", \"left\")\\\n",
    "# 注文明細に商品情報を結合\n",
    "df_fact_sales = df_fact_prep\\\n",
    "    .join(df_dim_customers, \"customer_id\", \"left\")\\\n",
    "    .join(df_dim_products, \"product_id\", \"left\")\\\n",
    "    .join(df_dim_date, col('order_date') == col('date'), \"left\")\\\n",
    "    .join(df_dim_categories, \"category_id\", \"left\")\\\n",
    "    .join(df_dim_countries, 'country_name', \"left\")\\\n",
    "    .join(df_dim_employees, 'employee_id', \"left\")\\\n",
    "    .select(\n",
    "        col(\"order_id\"),\n",
    "        col(\"customer_key\"),\n",
    "        col(\"product_key\"),\n",
    "        col(\"date_key\"),\n",
    "        col(\"category_key\"),\n",
    "        col(\"country_key\"),\n",
    "        col(\"employee_key\"),\n",
    "        col(\"date\"),\n",
    "        col(\"quantity\"),\n",
    "        col(\"detail_total_amount\"),\n",
    "        col(\"discount\"),\n",
    "        col(\"required_date\"),\n",
    "        col(\"shipped_date\"),\n",
    "\n",
    "    )\\\n",
    "    .withColumn(\"created_at\", current_timestamp())\n",
    "\n",
    "\n",
    "print(\"ファクトテーブル\")\n",
    "display(df_fact_sales.limit(5))\n",
    "df_fact_sales.createOrReplaceTempView(\"fact_sales\")"
   ]
  },
  {
   "cell_type": "markdown",
   "metadata": {
    "application/vnd.databricks.v1+cell": {
     "cellMetadata": {
      "byteLimit": 2048000,
      "rowLimit": 10000
     },
     "inputWidgets": {},
     "nuid": "797c14a8-2783-451c-80cd-1de1e5833a44",
     "showTitle": false,
     "tableResultSettingsMap": {},
     "title": ""
    }
   },
   "source": [
    "## 分析"
   ]
  },
  {
   "cell_type": "markdown",
   "metadata": {
    "application/vnd.databricks.v1+cell": {
     "cellMetadata": {
      "byteLimit": 2048000,
      "rowLimit": 10000
     },
     "inputWidgets": {},
     "nuid": "1fc175a9-9e71-4ca3-a8ab-6047e81e787a",
     "showTitle": false,
     "tableResultSettingsMap": {},
     "title": ""
    }
   },
   "source": [
    "## 売り上げ分析マート"
   ]
  },
  {
   "cell_type": "code",
   "execution_count": 0,
   "metadata": {
    "application/vnd.databricks.v1+cell": {
     "cellMetadata": {
      "byteLimit": 2048000,
      "rowLimit": 10000
     },
     "inputWidgets": {},
     "nuid": "c5ba3943-7494-4b37-919f-2f95c5c63d70",
     "showTitle": false,
     "tableResultSettingsMap": {},
     "title": ""
    }
   },
   "outputs": [],
   "source": [
    "print(\"\\n年月別分析\")\n",
    "\n",
    "df_analyze_sales_each_month = spark.sql(f\"\"\"\n",
    "  SELECT \n",
    "    d.year,\n",
    "    d.month,\n",
    "    SUM(f.detail_total_amount) as total_sales_amount,\n",
    "    COUNT(DISTINCT f.order_id) as order_count,\n",
    "    SUM(f.quantity) as product_count,\n",
    "    AVG(f.discount) as average_discount_rate,\n",
    "    'aaa' as dummy_column\n",
    "  FROM fact_sales f\n",
    "  JOIN dim_date d ON f.date_key = d.date_key\n",
    "  GROUP BY d.year, d.month\n",
    "  ORDER BY d.year, d.month\n",
    "\"\"\")\n",
    "display(df_analyze_sales_each_month.limit(5))\n",
    "\n",
    "\n",
    "print(\"\\n顧客別分析\")\n",
    "df_analyze_sales_customer = spark.sql(f\"\"\"\n",
    "  SELECT \n",
    "    c.customer_key,\n",
    "    SUM(f.detail_total_amount) as total_sales_amount,\n",
    "    COUNT(DISTINCT f.order_id) as order_count,\n",
    "    SUM(f.quantity) as product_count,\n",
    "    AVG(f.discount) as average_discount_rate,\n",
    "    'aaa' as dummy_column\n",
    "  FROM fact_sales f\n",
    "  JOIN dim_customers c ON f.customer_key = c.customer_key\n",
    "  GROUP BY c.customer_key\n",
    "  ORDER BY c.customer_key\n",
    "\"\"\")\n",
    "display(df_analyze_sales_customer.limit(5))\n",
    "\n",
    "\n",
    "print(\"\\n商品別分析\")\n",
    "df_analyze_sales_product = spark.sql(f\"\"\"\n",
    "  SELECT \n",
    "    p.product_key,\n",
    "    SUM(f.detail_total_amount) as total_sales_amount,\n",
    "    COUNT(DISTINCT f.order_id) as order_count,\n",
    "    SUM(f.quantity) as product_count,\n",
    "    AVG(f.discount) as average_discount_rate,\n",
    "    'aaa' as dummy_column\n",
    "  FROM fact_sales f\n",
    "  JOIN dim_products p ON f.customer_key = p.product_key\n",
    "  GROUP BY p.product_key\n",
    "  ORDER BY p.product_key\n",
    "\"\"\")\n",
    "display(df_analyze_sales_product.limit(5))\n",
    "\n",
    "\n",
    "\n",
    "print(\"\\n国別別分析\")\n",
    "df_analyze_sales_country = spark.sql(f\"\"\"\n",
    "  SELECT \n",
    "    c.country_key,\n",
    "    c.country_name,\n",
    "    SUM(f.detail_total_amount) as total_sales_amount,\n",
    "    COUNT(DISTINCT f.order_id) as order_count,\n",
    "    SUM(f.quantity) as product_count,\n",
    "    AVG(f.discount) as average_discount_rate,\n",
    "    'aaa' as dummy_column\n",
    "  FROM fact_sales f\n",
    "  JOIN dim_countries c ON f.country_key = c.country_key\n",
    "  GROUP BY c.country_key, c.country_name\n",
    "  ORDER BY c.country_key\n",
    "\"\"\")\n",
    "display(df_analyze_sales_country.limit(5))\n",
    "\n",
    "\n"
   ]
  },
  {
   "cell_type": "markdown",
   "metadata": {
    "application/vnd.databricks.v1+cell": {
     "cellMetadata": {
      "byteLimit": 2048000,
      "rowLimit": 10000
     },
     "inputWidgets": {},
     "nuid": "881b87f1-1633-4610-b967-975777d3fa45",
     "showTitle": false,
     "tableResultSettingsMap": {},
     "title": ""
    }
   },
   "source": [
    "\n",
    "### 顧客分析マート"
   ]
  },
  {
   "cell_type": "code",
   "execution_count": 0,
   "metadata": {
    "application/vnd.databricks.v1+cell": {
     "cellMetadata": {
      "byteLimit": 2048000,
      "rowLimit": 10000
     },
     "inputWidgets": {},
     "nuid": "c1dbe96c-067f-4c20-bd6e-e0309c1ab448",
     "showTitle": false,
     "tableResultSettingsMap": {},
     "title": ""
    }
   },
   "outputs": [],
   "source": [
    "df_analyze_customer = spark.sql(f\"\"\"\n",
    "  SELECT \n",
    "    c.company_name,\n",
    "    SUM(f.detail_total_amount) as total_sales,\n",
    "    COUNT(DISTINCT f.order_id) as order_count,\n",
    "    MIN(f.date) AS first_order_date,\n",
    "    MAX(f.date) AS last_order_date,\n",
    "    CASE\n",
    "      WHEN total_sales >= 20000 THEN \"aaaa\"\n",
    "      WHEN 20000 > total_sales AND total_sales >= 10000 THEN \"bbbb\"\n",
    "      ELSE \"ccccc\"\n",
    "    END as avg_order_value\n",
    "  FROM fact_sales f\n",
    "  JOIN dim_customers c ON f.customer_key = c.customer_key\n",
    "  GROUP BY c.customer_key, c.company_name\n",
    "  ORDER BY c.customer_key\n",
    "\"\"\")\n",
    "\n",
    "display(df_analyze_customer.limit(5))\n"
   ]
  },
  {
   "cell_type": "markdown",
   "metadata": {
    "application/vnd.databricks.v1+cell": {
     "cellMetadata": {
      "byteLimit": 2048000,
      "rowLimit": 10000
     },
     "inputWidgets": {},
     "nuid": "89335019-5482-47ac-8af4-b666a89b9442",
     "showTitle": false,
     "tableResultSettingsMap": {},
     "title": ""
    }
   },
   "source": [
    "### 従業員分析マート"
   ]
  },
  {
   "cell_type": "code",
   "execution_count": 0,
   "metadata": {
    "application/vnd.databricks.v1+cell": {
     "cellMetadata": {
      "byteLimit": 2048000,
      "rowLimit": 10000
     },
     "inputWidgets": {},
     "nuid": "3eaa85fc-5942-4589-bc41-9f24d4bfb6db",
     "showTitle": false,
     "tableResultSettingsMap": {
      "0": {
       "dataGridStateBlob": "{\"version\":1,\"tableState\":{\"columnPinning\":{\"left\":[\"#row_number#\"],\"right\":[]},\"columnSizing\":{},\"columnVisibility\":{}},\"settings\":{\"columns\":{}},\"syncTimestamp\":1761101980631}",
       "filterBlob": null,
       "queryPlanFiltersBlob": null,
       "tableResultIndex": 0
      }
     },
     "title": ""
    }
   },
   "outputs": [],
   "source": [
    "df_analyze_employee = spark.sql(f\"\"\"\n",
    "  SELECT \n",
    "    e.employee_name,\n",
    "    SUM(f.detail_total_amount) as total_sales,\n",
    "    COUNT(DISTINCT f.order_id) as order_count,\n",
    "    MIN(f.date) AS first_order_date,\n",
    "    MAX(f.date) AS last_order_date\n",
    "  FROM fact_sales f\n",
    "  JOIN dim_employees e ON f.employee_key = e.employee_key\n",
    "  GROUP BY e.employee_key, e.employee_name\n",
    "  ORDER BY e.employee_key\n",
    "\"\"\")\n",
    "\n",
    "display(df_analyze_employee.limit(5))\n"
   ]
  }
 ],
 "metadata": {
  "application/vnd.databricks.v1+notebook": {
   "computePreferences": null,
   "dashboards": [],
   "environmentMetadata": {
    "base_environment": "",
    "environment_version": "4"
   },
   "inputWidgetPreferences": null,
   "language": "python",
   "notebookMetadata": {
    "pythonIndentUnit": 4
   },
   "notebookName": "41_analyze",
   "widgets": {}
  },
  "language_info": {
   "name": "python"
  }
 },
 "nbformat": 4,
 "nbformat_minor": 0
}
